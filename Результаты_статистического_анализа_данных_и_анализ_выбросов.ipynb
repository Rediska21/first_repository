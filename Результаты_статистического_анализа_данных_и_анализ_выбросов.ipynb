{
  "nbformat": 4,
  "nbformat_minor": 0,
  "metadata": {
    "colab": {
      "provenance": [],
      "collapsed_sections": [
        "L9-_sDEx8ygG",
        "-byBHmexsFxW",
        "4RaOySxAaKTY",
        "XmuP31c8rhsA"
      ],
      "toc_visible": true,
      "include_colab_link": true
    },
    "kernelspec": {
      "name": "python3",
      "display_name": "Python 3"
    },
    "language_info": {
      "name": "python"
    }
  },
  "cells": [
    {
      "cell_type": "markdown",
      "metadata": {
        "id": "view-in-github",
        "colab_type": "text"
      },
      "source": [
        "<a href=\"https://colab.research.google.com/github/Rediska21/first_repository/blob/main/%D0%A0%D0%B5%D0%B7%D1%83%D0%BB%D1%8C%D1%82%D0%B0%D1%82%D1%8B_%D1%81%D1%82%D0%B0%D1%82%D0%B8%D1%81%D1%82%D0%B8%D1%87%D0%B5%D1%81%D0%BA%D0%BE%D0%B3%D0%BE_%D0%B0%D0%BD%D0%B0%D0%BB%D0%B8%D0%B7%D0%B0_%D0%B4%D0%B0%D0%BD%D0%BD%D1%8B%D1%85_%D0%B8_%D0%B0%D0%BD%D0%B0%D0%BB%D0%B8%D0%B7_%D0%B2%D1%8B%D0%B1%D1%80%D0%BE%D1%81%D0%BE%D0%B2.ipynb\" target=\"_parent\"><img src=\"https://colab.research.google.com/assets/colab-badge.svg\" alt=\"Open In Colab\"/></a>"
      ]
    },
    {
      "cell_type": "markdown",
      "source": [
        "# Библиотеки\n"
      ],
      "metadata": {
        "id": "L9-_sDEx8ygG"
      }
    },
    {
      "cell_type": "code",
      "execution_count": null,
      "metadata": {
        "id": "IzUYIkIWLFii"
      },
      "outputs": [],
      "source": [
        "import pandas as pd\n",
        "import json\n",
        "import os\n",
        "import numpy as np\n",
        "import seaborn as sns\n",
        "import matplotlib.pyplot as plt"
      ]
    },
    {
      "cell_type": "markdown",
      "source": [
        "# Подгрузка файлов"
      ],
      "metadata": {
        "id": "-byBHmexsFxW"
      }
    },
    {
      "cell_type": "code",
      "source": [
        "if not os.path.exists('/content/responseMoscowTyumen05.json'):\n",
        "    !wget https://github.com/MaksKirillov/DataPilots4RequestData/raw/main/responseMoscowTyumen05.json"
      ],
      "metadata": {
        "id": "wWpBbU14sLx8",
        "colab": {
          "base_uri": "https://localhost:8080/"
        },
        "outputId": "eee1010c-5c8b-4d5c-810c-067f417eb41a"
      },
      "execution_count": null,
      "outputs": [
        {
          "output_type": "stream",
          "name": "stdout",
          "text": [
            "--2024-04-26 11:09:49--  https://github.com/MaksKirillov/DataPilots4RequestData/raw/main/responseMoscowTyumen05.json\n",
            "Resolving github.com (github.com)... 140.82.113.3\n",
            "Connecting to github.com (github.com)|140.82.113.3|:443... connected.\n",
            "HTTP request sent, awaiting response... 302 Found\n",
            "Location: https://raw.githubusercontent.com/MaksKirillov/DataPilots4RequestData/main/responseMoscowTyumen05.json [following]\n",
            "--2024-04-26 11:09:49--  https://raw.githubusercontent.com/MaksKirillov/DataPilots4RequestData/main/responseMoscowTyumen05.json\n",
            "Resolving raw.githubusercontent.com (raw.githubusercontent.com)... 185.199.108.133, 185.199.109.133, 185.199.110.133, ...\n",
            "Connecting to raw.githubusercontent.com (raw.githubusercontent.com)|185.199.108.133|:443... connected.\n",
            "HTTP request sent, awaiting response... 200 OK\n",
            "Length: 82679 (81K) [text/plain]\n",
            "Saving to: ‘responseMoscowTyumen05.json’\n",
            "\n",
            "responseMoscowTyume 100%[===================>]  80.74K  --.-KB/s    in 0.01s   \n",
            "\n",
            "2024-04-26 11:09:49 (6.24 MB/s) - ‘responseMoscowTyumen05.json’ saved [82679/82679]\n",
            "\n"
          ]
        }
      ]
    },
    {
      "cell_type": "code",
      "source": [
        "if not os.path.exists('/content/responseMoscowTyumen06.json'):\n",
        "    !wget https://github.com/MaksKirillov/DataPilots4RequestData/raw/main/responseMoscowTyumen06.json"
      ],
      "metadata": {
        "id": "OKMlxsdNshGT",
        "colab": {
          "base_uri": "https://localhost:8080/"
        },
        "outputId": "db37fb6c-7eda-43d3-9532-c9675e0a7246"
      },
      "execution_count": null,
      "outputs": [
        {
          "output_type": "stream",
          "name": "stdout",
          "text": [
            "--2024-04-26 11:09:49--  https://github.com/MaksKirillov/DataPilots4RequestData/raw/main/responseMoscowTyumen06.json\n",
            "Resolving github.com (github.com)... 140.82.112.4\n",
            "Connecting to github.com (github.com)|140.82.112.4|:443... connected.\n",
            "HTTP request sent, awaiting response... 302 Found\n",
            "Location: https://raw.githubusercontent.com/MaksKirillov/DataPilots4RequestData/main/responseMoscowTyumen06.json [following]\n",
            "--2024-04-26 11:09:50--  https://raw.githubusercontent.com/MaksKirillov/DataPilots4RequestData/main/responseMoscowTyumen06.json\n",
            "Resolving raw.githubusercontent.com (raw.githubusercontent.com)... 185.199.108.133, 185.199.109.133, 185.199.110.133, ...\n",
            "Connecting to raw.githubusercontent.com (raw.githubusercontent.com)|185.199.108.133|:443... connected.\n",
            "HTTP request sent, awaiting response... 200 OK\n",
            "Length: 58856 (57K) [text/plain]\n",
            "Saving to: ‘responseMoscowTyumen06.json’\n",
            "\n",
            "responseMoscowTyume 100%[===================>]  57.48K  --.-KB/s    in 0.01s   \n",
            "\n",
            "2024-04-26 11:09:50 (5.30 MB/s) - ‘responseMoscowTyumen06.json’ saved [58856/58856]\n",
            "\n"
          ]
        }
      ]
    },
    {
      "cell_type": "code",
      "source": [
        "if not os.path.exists('/content/responseMoscowTyumen07.json'):\n",
        "    !wget https://github.com/MaksKirillov/DataPilots4RequestData/raw/main/responseMoscowTyumen07.json"
      ],
      "metadata": {
        "id": "5hBMB6IPsliY",
        "colab": {
          "base_uri": "https://localhost:8080/"
        },
        "outputId": "2982f218-63e6-436a-c4bd-80a2ad769e3c"
      },
      "execution_count": null,
      "outputs": [
        {
          "output_type": "stream",
          "name": "stdout",
          "text": [
            "--2024-04-26 11:09:50--  https://github.com/MaksKirillov/DataPilots4RequestData/raw/main/responseMoscowTyumen07.json\n",
            "Resolving github.com (github.com)... 140.82.112.4\n",
            "Connecting to github.com (github.com)|140.82.112.4|:443... connected.\n",
            "HTTP request sent, awaiting response... 302 Found\n",
            "Location: https://raw.githubusercontent.com/MaksKirillov/DataPilots4RequestData/main/responseMoscowTyumen07.json [following]\n",
            "--2024-04-26 11:09:50--  https://raw.githubusercontent.com/MaksKirillov/DataPilots4RequestData/main/responseMoscowTyumen07.json\n",
            "Resolving raw.githubusercontent.com (raw.githubusercontent.com)... 185.199.111.133, 185.199.110.133, 185.199.109.133, ...\n",
            "Connecting to raw.githubusercontent.com (raw.githubusercontent.com)|185.199.111.133|:443... connected.\n",
            "HTTP request sent, awaiting response... 200 OK\n",
            "Length: 45863 (45K) [text/plain]\n",
            "Saving to: ‘responseMoscowTyumen07.json’\n",
            "\n",
            "\r          responseM   0%[                    ]       0  --.-KB/s               \rresponseMoscowTyume 100%[===================>]  44.79K  --.-KB/s    in 0.01s   \n",
            "\n",
            "2024-04-26 11:09:50 (4.42 MB/s) - ‘responseMoscowTyumen07.json’ saved [45863/45863]\n",
            "\n"
          ]
        }
      ]
    },
    {
      "cell_type": "code",
      "source": [
        "if not os.path.exists('/content/responseMoscowTyumen08.json'):\n",
        "    !wget https://github.com/MaksKirillov/DataPilots4RequestData/raw/main/responseMoscowTyumen08.json"
      ],
      "metadata": {
        "id": "60pI9g3xsqOi",
        "colab": {
          "base_uri": "https://localhost:8080/"
        },
        "outputId": "f763e3fe-c5e2-49af-bad1-bc66a8f250cb"
      },
      "execution_count": null,
      "outputs": [
        {
          "output_type": "stream",
          "name": "stdout",
          "text": [
            "--2024-04-26 11:09:50--  https://github.com/MaksKirillov/DataPilots4RequestData/raw/main/responseMoscowTyumen08.json\n",
            "Resolving github.com (github.com)... 140.82.112.4\n",
            "Connecting to github.com (github.com)|140.82.112.4|:443... connected.\n",
            "HTTP request sent, awaiting response... 302 Found\n",
            "Location: https://raw.githubusercontent.com/MaksKirillov/DataPilots4RequestData/main/responseMoscowTyumen08.json [following]\n",
            "--2024-04-26 11:09:50--  https://raw.githubusercontent.com/MaksKirillov/DataPilots4RequestData/main/responseMoscowTyumen08.json\n",
            "Resolving raw.githubusercontent.com (raw.githubusercontent.com)... 185.199.110.133, 185.199.108.133, 185.199.111.133, ...\n",
            "Connecting to raw.githubusercontent.com (raw.githubusercontent.com)|185.199.110.133|:443... connected.\n",
            "HTTP request sent, awaiting response... 200 OK\n",
            "Length: 26653 (26K) [text/plain]\n",
            "Saving to: ‘responseMoscowTyumen08.json’\n",
            "\n",
            "\r          responseM   0%[                    ]       0  --.-KB/s               \rresponseMoscowTyume 100%[===================>]  26.03K  --.-KB/s    in 0.002s  \n",
            "\n",
            "2024-04-26 11:09:50 (16.9 MB/s) - ‘responseMoscowTyumen08.json’ saved [26653/26653]\n",
            "\n"
          ]
        }
      ]
    },
    {
      "cell_type": "code",
      "source": [
        "if not os.path.exists('/content/responseTyumenSamara05.json'):\n",
        "    !wget https://github.com/MaksKirillov/DataPilots4RequestData/raw/main/responseTyumenSamara05.json"
      ],
      "metadata": {
        "id": "N7c0S-TRs37V",
        "colab": {
          "base_uri": "https://localhost:8080/"
        },
        "outputId": "5d788e91-33e3-4b3a-f001-96ec8450862c"
      },
      "execution_count": null,
      "outputs": [
        {
          "output_type": "stream",
          "name": "stdout",
          "text": [
            "--2024-04-26 11:09:50--  https://github.com/MaksKirillov/DataPilots4RequestData/raw/main/responseTyumenSamara05.json\n",
            "Resolving github.com (github.com)... 140.82.112.4\n",
            "Connecting to github.com (github.com)|140.82.112.4|:443... connected.\n",
            "HTTP request sent, awaiting response... 302 Found\n",
            "Location: https://raw.githubusercontent.com/MaksKirillov/DataPilots4RequestData/main/responseTyumenSamara05.json [following]\n",
            "--2024-04-26 11:09:51--  https://raw.githubusercontent.com/MaksKirillov/DataPilots4RequestData/main/responseTyumenSamara05.json\n",
            "Resolving raw.githubusercontent.com (raw.githubusercontent.com)... 185.199.108.133, 185.199.111.133, 185.199.109.133, ...\n",
            "Connecting to raw.githubusercontent.com (raw.githubusercontent.com)|185.199.108.133|:443... connected.\n",
            "HTTP request sent, awaiting response... 200 OK\n",
            "Length: 83482 (82K) [text/plain]\n",
            "Saving to: ‘responseTyumenSamara05.json’\n",
            "\n",
            "responseTyumenSamar 100%[===================>]  81.53K  --.-KB/s    in 0.01s   \n",
            "\n",
            "2024-04-26 11:09:51 (5.94 MB/s) - ‘responseTyumenSamara05.json’ saved [83482/83482]\n",
            "\n"
          ]
        }
      ]
    },
    {
      "cell_type": "code",
      "source": [
        "if not os.path.exists('/content/responseTyumenSamara06.json'):\n",
        "    !wget https://github.com/MaksKirillov/DataPilots4RequestData/raw/main/responseTyumenSamara06.json"
      ],
      "metadata": {
        "id": "ZSEiCMZYs9Hj",
        "colab": {
          "base_uri": "https://localhost:8080/"
        },
        "outputId": "4e3be6ae-7122-437b-d4cb-b56d8dba2840"
      },
      "execution_count": null,
      "outputs": [
        {
          "output_type": "stream",
          "name": "stdout",
          "text": [
            "--2024-04-26 11:09:51--  https://github.com/MaksKirillov/DataPilots4RequestData/raw/main/responseTyumenSamara06.json\n",
            "Resolving github.com (github.com)... 140.82.112.4\n",
            "Connecting to github.com (github.com)|140.82.112.4|:443... connected.\n",
            "HTTP request sent, awaiting response... 302 Found\n",
            "Location: https://raw.githubusercontent.com/MaksKirillov/DataPilots4RequestData/main/responseTyumenSamara06.json [following]\n",
            "--2024-04-26 11:09:51--  https://raw.githubusercontent.com/MaksKirillov/DataPilots4RequestData/main/responseTyumenSamara06.json\n",
            "Resolving raw.githubusercontent.com (raw.githubusercontent.com)... 185.199.111.133, 185.199.109.133, 185.199.110.133, ...\n",
            "Connecting to raw.githubusercontent.com (raw.githubusercontent.com)|185.199.111.133|:443... connected.\n",
            "HTTP request sent, awaiting response... 200 OK\n",
            "Length: 73446 (72K) [text/plain]\n",
            "Saving to: ‘responseTyumenSamara06.json’\n",
            "\n",
            "responseTyumenSamar 100%[===================>]  71.72K  --.-KB/s    in 0.01s   \n",
            "\n",
            "2024-04-26 11:09:51 (5.83 MB/s) - ‘responseTyumenSamara06.json’ saved [73446/73446]\n",
            "\n"
          ]
        }
      ]
    },
    {
      "cell_type": "code",
      "source": [
        "if not os.path.exists('/content/responseTyumenSamara07.json'):\n",
        "    !wget https://github.com/MaksKirillov/DataPilots4RequestData/raw/main/responseTyumenSamara07.json"
      ],
      "metadata": {
        "id": "yqLdw3eTtCPG",
        "colab": {
          "base_uri": "https://localhost:8080/"
        },
        "outputId": "db219d10-ac3c-4525-9c2e-b9cd721bd023"
      },
      "execution_count": null,
      "outputs": [
        {
          "output_type": "stream",
          "name": "stdout",
          "text": [
            "--2024-04-26 11:09:51--  https://github.com/MaksKirillov/DataPilots4RequestData/raw/main/responseTyumenSamara07.json\n",
            "Resolving github.com (github.com)... 140.82.112.4\n",
            "Connecting to github.com (github.com)|140.82.112.4|:443... connected.\n",
            "HTTP request sent, awaiting response... 302 Found\n",
            "Location: https://raw.githubusercontent.com/MaksKirillov/DataPilots4RequestData/main/responseTyumenSamara07.json [following]\n",
            "--2024-04-26 11:09:51--  https://raw.githubusercontent.com/MaksKirillov/DataPilots4RequestData/main/responseTyumenSamara07.json\n",
            "Resolving raw.githubusercontent.com (raw.githubusercontent.com)... 185.199.109.133, 185.199.108.133, 185.199.111.133, ...\n",
            "Connecting to raw.githubusercontent.com (raw.githubusercontent.com)|185.199.109.133|:443... connected.\n",
            "HTTP request sent, awaiting response... 200 OK\n",
            "Length: 61596 (60K) [text/plain]\n",
            "Saving to: ‘responseTyumenSamara07.json’\n",
            "\n",
            "\r          responseT   0%[                    ]       0  --.-KB/s               \rresponseTyumenSamar 100%[===================>]  60.15K  --.-KB/s    in 0.01s   \n",
            "\n",
            "2024-04-26 11:09:51 (5.66 MB/s) - ‘responseTyumenSamara07.json’ saved [61596/61596]\n",
            "\n"
          ]
        }
      ]
    },
    {
      "cell_type": "code",
      "source": [
        "if not os.path.exists('/content/responseTyumenSamara08.json'):\n",
        "    !wget https://github.com/MaksKirillov/DataPilots4RequestData/raw/main/responseTyumenSamara08.json"
      ],
      "metadata": {
        "id": "XNNx5Rh_tHIU",
        "colab": {
          "base_uri": "https://localhost:8080/"
        },
        "outputId": "b0d9fce9-7065-4fd3-baab-bd4b026aca91"
      },
      "execution_count": null,
      "outputs": [
        {
          "output_type": "stream",
          "name": "stdout",
          "text": [
            "--2024-04-26 11:09:52--  https://github.com/MaksKirillov/DataPilots4RequestData/raw/main/responseTyumenSamara08.json\n",
            "Resolving github.com (github.com)... 140.82.112.4\n",
            "Connecting to github.com (github.com)|140.82.112.4|:443... connected.\n",
            "HTTP request sent, awaiting response... 302 Found\n",
            "Location: https://raw.githubusercontent.com/MaksKirillov/DataPilots4RequestData/main/responseTyumenSamara08.json [following]\n",
            "--2024-04-26 11:09:52--  https://raw.githubusercontent.com/MaksKirillov/DataPilots4RequestData/main/responseTyumenSamara08.json\n",
            "Resolving raw.githubusercontent.com (raw.githubusercontent.com)... 185.199.108.133, 185.199.109.133, 185.199.110.133, ...\n",
            "Connecting to raw.githubusercontent.com (raw.githubusercontent.com)|185.199.108.133|:443... connected.\n",
            "HTTP request sent, awaiting response... 200 OK\n",
            "Length: 34403 (34K) [text/plain]\n",
            "Saving to: ‘responseTyumenSamara08.json’\n",
            "\n",
            "\r          responseT   0%[                    ]       0  --.-KB/s               \rresponseTyumenSamar 100%[===================>]  33.60K  --.-KB/s    in 0.002s  \n",
            "\n",
            "2024-04-26 11:09:52 (13.7 MB/s) - ‘responseTyumenSamara08.json’ saved [34403/34403]\n",
            "\n"
          ]
        }
      ]
    },
    {
      "cell_type": "markdown",
      "source": [
        "#Результаты статистического анализа данных Москва-Тюмень\n",
        "\n",
        "\n",
        "\n",
        "\n"
      ],
      "metadata": {
        "id": "4RaOySxAaKTY"
      }
    },
    {
      "cell_type": "code",
      "source": [
        "f = open('/content/responseMoscowTyumen05.json')\n",
        "data = json.load(f)\n",
        "MT05 = pd.json_normalize(data['data']['prices_round_trip'])\n",
        "\n",
        "mode_result_v_MT05=pd.Series(MT05['value']).mode()\n",
        "average_v_MT05 = np.mean(MT05['value'])\n",
        "median_v_MT05 = np.median(MT05['value'])\n",
        "min_value_v_MT05 = MT05['value'].min()\n",
        "max_value_v_MT05 = MT05['value'].max()\n",
        "value_range_v_MT05 = max_value_v_MT05 - min_value_v_MT05\n",
        "std_dev_value_v_MT05 = MT05['value'].std()\n",
        "coefficient_of_variation_v_MT05 = (std_dev_value_v_MT05 / average_v_MT05) * 100\n",
        "\n",
        "pd.Series(MT05['value'])\n",
        "\n",
        "\n",
        "#На случай, если нужен анализ чистых данных - раскомментировать\n",
        "#average_v_MT05 = np.mean(MT05['value'])\n",
        "#std_dev_value_v_MT05 = MT05['value'].std()\n",
        "\n",
        "#lower_threshold = average_v_MT05 - 3 * std_dev_value_v_MT05\n",
        "#upper_threshold = average_v_MT05 + 3 * std_dev_value_v_MT05\n",
        "#MT05_filtered = MT05[(MT05['value'] >= lower_threshold) & (MT05['value'] <= upper_threshold)]\n",
        "\n",
        "#average_v_MT05 = np.mean(MT05_filtered['value'])\n",
        "#std_dev_value_v_MT05 = MT05_filtered['value'].std()\n",
        "#mode_result_v_MT05=pd.Series(MT05_filtered['value']).mode()\n",
        "#median_v_MT05 = np.median(mode_result_v_MT05['value'])\n",
        "#min_value_v_MT05 = mode_result_v_MT05['value'].min()\n",
        "#max_value_v_MT05 = mode_result_v_MT05['value'].max()\n",
        "#value_range_v_MT05 = max_value_v_MT05 - min_value_v_MT05\n",
        "#coefficient_of_variation_v_MT05 = (std_dev_value_v_MT05 / average_v_MT05) * 100\n",
        "\n",
        "#lower_threshold = average_v_MT05 - 3 * std_dev_value_v_MT05\n",
        "#upper_threshold = average_v_MT05 + 3 * std_dev_value_v_MT05\n",
        "#MT05_filtered = MT05[(MT05['value'] >= lower_threshold) & (MT05['value'] <= upper_threshold)]\n",
        "\n",
        "\n",
        "print (\"Москва-Тюмень май:\")\n",
        "print (\"\\nМода столбца 'value':\", mode_result_v_MT05[0])\n",
        "print (\"Среднее арифметическое столбца 'value':\", average_v_MT05)\n",
        "print (\"Медиана столбца 'value':\", median_v_MT05)\n",
        "print(\"Минимальное значение столбца 'value':\", min_value_v_MT05)\n",
        "print(\"Максимальное значение столбца 'value':\", max_value_v_MT05)\n",
        "print(\"Диапазон значений столбца 'value':\", value_range_v_MT05)\n",
        "print(\"Коэффициент вариации для столбца 'value': {:.2f}%\\n\".format(coefficient_of_variation_v_MT05))\n",
        "\n",
        "# Вычисление верхнего и нижнего порогов для выбросов\n",
        "lower_threshold = average_v_MT05 - 3 * std_dev_value_v_MT05\n",
        "upper_threshold = average_v_MT05 + 3 * std_dev_value_v_MT05\n",
        "# Фильтрация данных для удаления выбросов\n",
        "MT05_filtered = MT05[(MT05['value'] >= lower_threshold) & (MT05['value'] <= upper_threshold)]\n",
        "# Визуализация выбросов\n",
        "plt.figure(figsize=(10, 6))\n",
        "sns.boxplot(x=MT05['value'])\n",
        "plt.title('Boxplot столбца \"value\" (Москва-Тюмень май)')\n",
        "plt.xlabel('Значение')\n",
        "plt.show()\n",
        "\n",
        "mode_result_ma_MT05=pd.Series(MT05[\"main_airline\"]).mode()\n",
        "\n",
        "print (\"Мода столбца 'main_airline':\", mode_result_ma_MT05[0])\n",
        "\n",
        "MT05['departure_at'] = MT05['departure_at'].apply(lambda x: x.split('T')[0])\n",
        "mode_result_da_MT05=pd.Series(MT05['departure_at']).mode()\n",
        "min_value_da_MT05= MT05['departure_at'].min()\n",
        "max_value_da_MT05 = MT05['departure_at'].max()\n",
        "\n",
        "print (\"\\nМода столбца 'departure_at':\", mode_result_da_MT05[0])\n",
        "print(\"Минимальное значение столбца 'departure_at':\", min_value_da_MT05)\n",
        "print(\"Максимальное значение столбца 'departure_at':\", max_value_da_MT05)\n",
        "\n",
        "MT05['return_at'] = MT05['return_at'].apply(lambda x: x.split('T')[0])\n",
        "mode_result_ra_MT05=pd.Series(MT05['return_at']).mode()\n",
        "min_value_ra_MT05 = MT05['return_at'].min()\n",
        "max_value_ra_MT05 = MT05['return_at'].max()\n",
        "\n",
        "print (\"\\nМода столбца 'return_at':\", mode_result_ra_MT05[0])\n",
        "print(\"Минимальное значение столбца 'return_at':\", min_value_ra_MT05)\n",
        "print(\"Максимальное значение столбца 'return_at':\", max_value_ra_MT05)\n",
        "\n",
        "\n",
        "\n",
        "\n",
        "\n",
        "\n",
        "\n",
        "\n",
        "\n",
        "\n",
        "\n"
      ],
      "metadata": {
        "id": "4Uzl-_pjc_SA",
        "colab": {
          "base_uri": "https://localhost:8080/",
          "height": 894
        },
        "outputId": "15c9a981-16c5-448b-b3e6-cb339ec905ff"
      },
      "execution_count": null,
      "outputs": [
        {
          "output_type": "stream",
          "name": "stdout",
          "text": [
            "Москва-Тюмень май:\n",
            "\n",
            "Мода столбца 'value': 15659.0\n",
            "Среднее арифметическое столбца 'value': 18839.53106329114\n",
            "Медиана столбца 'value': 18428.1\n",
            "Минимальное значение столбца 'value': 11165.41\n",
            "Максимальное значение столбца 'value': 35996.11\n",
            "Диапазон значений столбца 'value': 24830.7\n",
            "Коэффициент вариации для столбца 'value': 20.44%\n",
            "\n"
          ]
        },
        {
          "output_type": "display_data",
          "data": {
            "text/plain": [
              "<Figure size 1000x600 with 1 Axes>"
            ],
            "image/png": "[encoded data removed]"
          },
          "metadata": {}
        },
        {
          "output_type": "stream",
          "name": "stdout",
          "text": [
            "Мода столбца 'main_airline': DP\n",
            "\n",
            "Мода столбца 'departure_at': 2024-05-06\n",
            "Минимальное значение столбца 'departure_at': 2024-05-01\n",
            "Максимальное значение столбца 'departure_at': 2024-05-31\n",
            "\n",
            "Мода столбца 'return_at': 2024-05-31\n",
            "Минимальное значение столбца 'return_at': 2024-05-01\n",
            "Максимальное значение столбца 'return_at': 2024-06-21\n"
          ]
        }
      ]
    },
    {
      "cell_type": "code",
      "source": [
        "f = open('/content/responseMoscowTyumen06.json')\n",
        "data = json.load(f)\n",
        "MT06 = pd.json_normalize(data['data']['prices_round_trip'])\n",
        "\n",
        "mode_result_v_MT06=pd.Series(MT06['value']).mode()\n",
        "average_v_MT06 = np.mean(MT06['value'])\n",
        "median_v_MT06 = np.median(MT06['value'])\n",
        "min_value_v_MT06 = MT06['value'].min()\n",
        "max_value_v_MT06 = MT06['value'].max()\n",
        "value_range_v_MT06 = max_value_v_MT06 - min_value_v_MT06\n",
        "std_dev_value_v_MT06 = MT06['value'].std()\n",
        "coefficient_of_variation_v_MT06 = (std_dev_value_v_MT06 / average_v_MT06) * 100\n",
        "\n",
        "print (\"\\nМосква-Тюмень июнь\")\n",
        "print (\"\\nМода столбца 'value':\", mode_result_v_MT06[0])\n",
        "print (\"Среднее арифметическое столбца 'value':\", average_v_MT06)\n",
        "print (\"Медиана столбца 'value':\", median_v_MT06)\n",
        "print(\"Минимальное значение столбца 'value':\", min_value_v_MT06)\n",
        "print(\"Максимальное значение столбца 'value':\", max_value_v_MT06)\n",
        "print(\"Диапазон значений столбца 'value':\", value_range_v_MT06)\n",
        "print(\"Коэффициент вариации для столбца 'value': {:.2f}%\\n\".format(coefficient_of_variation_v_MT06))\n",
        "\n",
        "# Вычисление верхнего и нижнего порогов для выбросов\n",
        "lower_threshold = average_v_MT06 - 3 * std_dev_value_v_MT06\n",
        "upper_threshold = average_v_MT06 + 3 * std_dev_value_v_MT06\n",
        "# Фильтрация данных для удаления выбросов\n",
        "MT06_filtered = MT06[(MT06['value'] >= lower_threshold) & (MT06['value'] <= upper_threshold)]\n",
        "# Визуализация выбросов\n",
        "plt.figure(figsize=(10, 6))\n",
        "sns.boxplot(x=MT06['value'])\n",
        "plt.title('Boxplot столбца \"value\" (Москва-Тюмень июнь)')\n",
        "plt.xlabel('Значение')\n",
        "plt.show()\n",
        "\n",
        "mode_result_ma_MT06=pd.Series(MT06[\"main_airline\"]).mode()\n",
        "\n",
        "print (\"Мода столбца 'main_airline':\", mode_result_ma_MT06[0])\n",
        "\n",
        "MT06['departure_at'] = MT06['departure_at'].apply(lambda x: x.split('T')[0])\n",
        "mode_result_da_MT06=pd.Series(MT06['departure_at']).mode()\n",
        "min_value_da_MT06= MT06['departure_at'].min()\n",
        "max_value_da_MT06 = MT06['departure_at'].max()\n",
        "\n",
        "print (\"\\nМода столбца 'departure_at':\", mode_result_da_MT06[0])\n",
        "print(\"Минимальное значение столбца 'departure_at':\", min_value_da_MT06)\n",
        "print(\"Максимальное значение столбца 'departure_at':\", max_value_da_MT06)\n",
        "\n",
        "MT06['return_at'] = MT06['return_at'].apply(lambda x: x.split('T')[0])\n",
        "mode_result_ra_MT06=pd.Series(MT06['return_at']).mode()\n",
        "min_value_ra_MT06 = MT06['return_at'].min()\n",
        "max_value_ra_MT06 = MT06['return_at'].max()\n",
        "\n",
        "print (\"\\nМода столбца 'return_at':\", mode_result_ra_MT06[0])\n",
        "print(\"Минимальное значение столбца 'return_at':\", min_value_ra_MT06)\n",
        "print(\"Максимальное значение столбца 'return_at':\", max_value_ra_MT06)"
      ],
      "metadata": {
        "id": "lnSbb5L9TfEs",
        "colab": {
          "base_uri": "https://localhost:8080/",
          "height": 911
        },
        "outputId": "88da5f76-f984-4e0b-b366-fe33121e2589"
      },
      "execution_count": null,
      "outputs": [
        {
          "output_type": "stream",
          "name": "stdout",
          "text": [
            "\n",
            "Москва-Тюмень июнь\n",
            "\n",
            "Мода столбца 'value': 18060.94\n",
            "Среднее арифметическое столбца 'value': 21353.868327402135\n",
            "Медиана столбца 'value': 21088.32\n",
            "Минимальное значение столбца 'value': 16143.57\n",
            "Максимальное значение столбца 'value': 38650.74\n",
            "Диапазон значений столбца 'value': 22507.17\n",
            "Коэффициент вариации для столбца 'value': 16.78%\n",
            "\n"
          ]
        },
        {
          "output_type": "display_data",
          "data": {
            "text/plain": [
              "<Figure size 1000x600 with 1 Axes>"
            ],
            "image/png": "[encoded data removed]"
          },
          "metadata": {}
        },
        {
          "output_type": "stream",
          "name": "stdout",
          "text": [
            "Мода столбца 'main_airline': DP\n",
            "\n",
            "Мода столбца 'departure_at': 2024-06-01\n",
            "Минимальное значение столбца 'departure_at': 2024-06-01\n",
            "Максимальное значение столбца 'departure_at': 2024-06-30\n",
            "\n",
            "Мода столбца 'return_at': 2024-06-23\n",
            "Минимальное значение столбца 'return_at': 2024-06-01\n",
            "Максимальное значение столбца 'return_at': 2024-07-29\n"
          ]
        }
      ]
    },
    {
      "cell_type": "code",
      "source": [
        "f = open('/content/responseMoscowTyumen07.json')\n",
        "data = json.load(f)\n",
        "MT07 = pd.json_normalize(data['data']['prices_round_trip'])\n",
        "\n",
        "mode_result_v_MT07=pd.Series(MT07['value']).mode()\n",
        "average_v_MT07 = np.mean(MT07['value'])\n",
        "median_v_MT07 = np.median(MT07['value'])\n",
        "min_value_v_MT07 = MT07['value'].min()\n",
        "max_value_v_MT07 = MT07['value'].max()\n",
        "value_range_v_MT07 = max_value_v_MT07 - min_value_v_MT07\n",
        "std_dev_value_v_MT07 = MT07['value'].std()\n",
        "coefficient_of_variation_v_MT07 = (std_dev_value_v_MT07 / average_v_MT07) * 100\n",
        "\n",
        "print (\"\\nМосква-Тюмень июль:\")\n",
        "print (\"\\nМода столбца 'value':\", mode_result_v_MT07[0])\n",
        "print (\"Среднее арифметическое столбца 'value':\", average_v_MT07)\n",
        "print (\"Медиана столбца 'value':\", median_v_MT07)\n",
        "print(\"Минимальное значение столбца 'value':\", min_value_v_MT07)\n",
        "print(\"Максимальное значение столбца 'value':\", max_value_v_MT07)\n",
        "print(\"Диапазон значений столбца 'value':\", value_range_v_MT07)\n",
        "print(\"Коэффициент вариации для столбца 'value': {:.2f}%\\n\".format(coefficient_of_variation_v_MT07))\n",
        "\n",
        "# Вычисление верхнего и нижнего порогов для выбросов\n",
        "lower_threshold = average_v_MT07 - 3 * std_dev_value_v_MT07\n",
        "upper_threshold = average_v_MT07 + 3 * std_dev_value_v_MT07\n",
        "# Фильтрация данных для удаления выбросов\n",
        "MT07_filtered = MT07[(MT07['value'] >= lower_threshold) & (MT07['value'] <= upper_threshold)]\n",
        "# Визуализация выбросов\n",
        "plt.figure(figsize=(10, 6))\n",
        "sns.boxplot(x=MT07['value'])\n",
        "plt.title('Boxplot столбца \"value\" (Моска-Тюмень июль)')\n",
        "plt.xlabel('Значение')\n",
        "plt.show()\n",
        "\n",
        "mode_result_ma_MT07=pd.Series(MT07[\"main_airline\"]).mode()\n",
        "\n",
        "print (\"Мода столбца 'main_airline':\", mode_result_ma_MT07[0])\n",
        "\n",
        "MT07['departure_at'] = MT07['departure_at'].apply(lambda x: x.split('T')[0])\n",
        "mode_result_da_MT07=pd.Series(MT07['departure_at']).mode()\n",
        "min_value_da_MT07= MT07['departure_at'].min()\n",
        "max_value_da_MT07 = MT07['departure_at'].max()\n",
        "\n",
        "print (\"\\nМода столбца 'departure_at':\", mode_result_da_MT07[0])\n",
        "print(\"Минимальное значение столбца 'departure_at':\", min_value_da_MT07)\n",
        "print(\"Максимальное значение столбца 'departure_at':\", max_value_da_MT07)\n",
        "\n",
        "MT07['return_at'] = MT07['return_at'].apply(lambda x: x.split('T')[0])\n",
        "mode_result_ra_MT07=pd.Series(MT07['return_at']).mode()\n",
        "min_value_ra_MT07 = MT07['return_at'].min()\n",
        "max_value_ra_MT07 = MT07['return_at'].max()\n",
        "\n",
        "print (\"\\nМода столбца 'return_at':\", mode_result_ra_MT07[0])\n",
        "print(\"Минимальное значение столбца 'return_at':\", min_value_ra_MT07)\n",
        "print(\"Максимальное значение столбца 'return_at':\", max_value_ra_MT07)"
      ],
      "metadata": {
        "id": "Flq9hszATgJE",
        "colab": {
          "base_uri": "https://localhost:8080/",
          "height": 911
        },
        "outputId": "9de218f0-1b94-4b12-efda-1be0dd926527"
      },
      "execution_count": null,
      "outputs": [
        {
          "output_type": "stream",
          "name": "stdout",
          "text": [
            "\n",
            "Москва-Тюмень июль:\n",
            "\n",
            "Мода столбца 'value': 21693.41\n",
            "Среднее арифметическое столбца 'value': 20543.466255707765\n",
            "Медиана столбца 'value': 20200.0\n",
            "Минимальное значение столбца 'value': 16142.8\n",
            "Максимальное значение столбца 'value': 37602.68\n",
            "Диапазон значений столбца 'value': 21459.88\n",
            "Коэффициент вариации для столбца 'value': 15.43%\n",
            "\n"
          ]
        },
        {
          "output_type": "display_data",
          "data": {
            "text/plain": [
              "<Figure size 1000x600 with 1 Axes>"
            ],
            "image/png": "[encoded data removed]"
          },
          "metadata": {}
        },
        {
          "output_type": "stream",
          "name": "stdout",
          "text": [
            "Мода столбца 'main_airline': SU\n",
            "\n",
            "Мода столбца 'departure_at': 2024-07-07\n",
            "Минимальное значение столбца 'departure_at': 2024-07-01\n",
            "Максимальное значение столбца 'departure_at': 2024-07-31\n",
            "\n",
            "Мода столбца 'return_at': 2024-07-28\n",
            "Минимальное значение столбца 'return_at': 2024-07-02\n",
            "Максимальное значение столбца 'return_at': 2024-08-28\n"
          ]
        }
      ]
    },
    {
      "cell_type": "code",
      "source": [
        "f = open('/content/responseMoscowTyumen08.json')\n",
        "data = json.load(f)\n",
        "MT08 = pd.json_normalize(data['data']['prices_round_trip'])\n",
        "\n",
        "mode_result_v_MT08=pd.Series(MT08['value']).mode()\n",
        "average_v_MT08 = np.mean(MT08['value'])\n",
        "median_v_MT08 = np.median(MT08['value'])\n",
        "min_value_v_MT08 = MT08['value'].min()\n",
        "max_value_v_MT08 = MT08['value'].max()\n",
        "value_range_v_MT08 = max_value_v_MT08 - min_value_v_MT08\n",
        "std_dev_value_v_MT08 = MT08['value'].std()\n",
        "coefficient_of_variation_v_MT08 = (std_dev_value_v_MT08 / average_v_MT08) * 100\n",
        "\n",
        "print (\"\\nМосква-Тюмень август:\")\n",
        "print (\"\\nМода столбца 'value':\", mode_result_v_MT08[0])\n",
        "print (\"Среднее арифметическое столбца 'value':\", average_v_MT08)\n",
        "print (\"Медиана столбца 'value':\", median_v_MT08)\n",
        "print(\"Минимальное значение столбца 'value':\", min_value_v_MT08)\n",
        "print(\"Максимальное значение столбца 'value':\", max_value_v_MT08)\n",
        "print(\"Диапазон значений столбца 'value':\", value_range_v_MT08)\n",
        "print(\"Коэффициент вариации для столбца 'value': {:.2f}%\\n\".format(coefficient_of_variation_v_MT08))\n",
        "\n",
        "# Вычисление верхнего и нижнего порогов для выбросов\n",
        "lower_threshold = average_v_MT08 - 3 * std_dev_value_v_MT08\n",
        "upper_threshold = average_v_MT08 + 3 * std_dev_value_v_MT08\n",
        "# Фильтрация данных для удаления выбросов\n",
        "MT08_filtered = MT08[(MT08['value'] >= lower_threshold) & (MT08['value'] <= upper_threshold)]\n",
        "# Визуализация выбросов\n",
        "plt.figure(figsize=(10, 6))\n",
        "sns.boxplot(x=MT08['value'])\n",
        "plt.title('Boxplot столбца \"value\" (Москва-Тюмень август)')\n",
        "plt.xlabel('Значение')\n",
        "plt.show()\n",
        "\n",
        "mode_result_ma_MT08=pd.Series(MT08[\"main_airline\"]).mode()\n",
        "\n",
        "print (\"Мода столбца 'main_airline':\", mode_result_ma_MT08[0])\n",
        "\n",
        "MT08['departure_at'] = MT08['departure_at'].apply(lambda x: x.split('T')[0])\n",
        "mode_result_da_MT08=pd.Series(MT08['departure_at']).mode()\n",
        "min_value_da_MT08 = MT08['departure_at'].min()\n",
        "max_value_da_MT08 = MT08['departure_at'].max()\n",
        "\n",
        "print (\"\\nМода столбца 'departure_at':\", mode_result_da_MT08[0])\n",
        "print(\"Минимальное значение столбца 'departure_at':\", min_value_da_MT08)\n",
        "print(\"Максимальное значение столбца 'departure_at':\", max_value_da_MT08)\n",
        "\n",
        "MT08['return_at'] = MT08['return_at'].apply(lambda x: x.split('T')[0])\n",
        "mode_result_ra_MT08=pd.Series(MT08['return_at']).mode()\n",
        "min_value_ra_MT08 = MT08['return_at'].min()\n",
        "max_value_ra_MT08 = MT08['return_at'].max()\n",
        "\n",
        "print (\"\\nМода столбца 'return_at':\", mode_result_ra_MT08[0])\n",
        "print(\"Минимальное значение столбца 'return_at':\", min_value_ra_MT08)\n",
        "print(\"Максимальное значение столбца 'return_at':\", max_value_ra_MT08)"
      ],
      "metadata": {
        "id": "yX7eyy56TpTf",
        "colab": {
          "base_uri": "https://localhost:8080/",
          "height": 911
        },
        "outputId": "ea7b03a3-e976-4492-c5a2-b3c869da093e"
      },
      "execution_count": null,
      "outputs": [
        {
          "output_type": "stream",
          "name": "stdout",
          "text": [
            "\n",
            "Москва-Тюмень август:\n",
            "\n",
            "Мода столбца 'value': 18724.0\n",
            "Среднее арифметическое столбца 'value': 20898.129291338588\n",
            "Медиана столбца 'value': 19967.0\n",
            "Минимальное значение столбца 'value': 16188.09\n",
            "Максимальное значение столбца 'value': 44213.74\n",
            "Диапазон значений столбца 'value': 28025.649999999998\n",
            "Коэффициент вариации для столбца 'value': 20.30%\n",
            "\n"
          ]
        },
        {
          "output_type": "display_data",
          "data": {
            "text/plain": [
              "<Figure size 1000x600 with 1 Axes>"
            ],
            "image/png": "[encoded data removed]"
          },
          "metadata": {}
        },
        {
          "output_type": "stream",
          "name": "stdout",
          "text": [
            "Мода столбца 'main_airline': SU\n",
            "\n",
            "Мода столбца 'departure_at': 2024-08-01\n",
            "Минимальное значение столбца 'departure_at': 2024-08-01\n",
            "Максимальное значение столбца 'departure_at': 2024-08-31\n",
            "\n",
            "Мода столбца 'return_at': 2024-08-18\n",
            "Минимальное значение столбца 'return_at': 2024-08-03\n",
            "Максимальное значение столбца 'return_at': 2024-09-11\n"
          ]
        }
      ]
    },
    {
      "cell_type": "markdown",
      "source": [
        "#Результаты статистического анализа данных Тюмень-Самара"
      ],
      "metadata": {
        "id": "XmuP31c8rhsA"
      }
    },
    {
      "cell_type": "code",
      "source": [
        "f = open('/content/responseTyumenSamara05.json')\n",
        "data = json.load(f)\n",
        "TS05 = pd.json_normalize(data['data']['prices_round_trip'])\n",
        "\n",
        "mode_result_v_TS05=pd.Series(TS05['value']).mode()\n",
        "average_v_TS05 = np.mean(TS05['value'])\n",
        "median_v_TS05 = np.median(TS05['value'])\n",
        "min_value_v_TS05 = TS05['value'].min()\n",
        "max_value_v_TS05 = TS05['value'].max()\n",
        "value_range_v_TS05 = max_value_v_TS05 - min_value_v_TS05\n",
        "std_dev_value_v_TS05 = TS05['value'].std()\n",
        "coefficient_of_variation_v_TS05 = (std_dev_value_v_TS05 / average_v_TS05) * 100\n",
        "\n",
        "print (\"Тюмень-Самара май:\")\n",
        "print (\"\\nМода столбца 'value':\", mode_result_v_TS05[0])\n",
        "print (\"Среднее арифметическое столбца 'value':\", average_v_TS05)\n",
        "print (\"Медиана столбца 'value':\", median_v_TS05)\n",
        "print(\"Минимальное значение столбца 'value':\", min_value_v_TS05)\n",
        "print(\"Максимальное значение столбца 'value':\", max_value_v_TS05)\n",
        "print(\"Диапазон значений столбца 'value':\", value_range_v_TS05)\n",
        "print(\"Коэффициент вариации для столбца 'value': {:.2f}%\\n\".format(coefficient_of_variation_v_TS05))\n",
        "\n",
        "# Вычисление верхнего и нижнего порогов для выбросов\n",
        "lower_threshold = average_v_TS05 - 3 * std_dev_value_v_TS05\n",
        "upper_threshold = average_v_TS05 + 3 * std_dev_value_v_TS05\n",
        "# Фильтрация данных для удаления выбросов\n",
        "TS05_filtered = TS05[(TS05['value'] >= lower_threshold) & (TS05['value'] <= upper_threshold)]\n",
        "# Визуализация выбросов\n",
        "plt.figure(figsize=(10, 6))\n",
        "sns.boxplot(x=TS05['value'])\n",
        "plt.title('Boxplot столбца \"value\" (Тюмень-Самара май)')\n",
        "plt.xlabel('Значение')\n",
        "plt.show()\n",
        "\n",
        "mode_result_ma_TS05=pd.Series(TS05[\"main_airline\"]).mode()\n",
        "\n",
        "print (\"Мода столбца 'main_airline':\", mode_result_ma_TS05[0])\n",
        "\n",
        "TS05['departure_at'] = TS05['departure_at'].apply(lambda x: x.split('T')[0])\n",
        "mode_result_da_TS05=pd.Series(TS05['departure_at']).mode()\n",
        "min_value_da_TS05 = TS05['departure_at'].min()\n",
        "max_value_da_TS05 = TS05['departure_at'].max()\n",
        "\n",
        "print (\"\\nМода столбца 'departure_at':\", mode_result_da_TS05[0])\n",
        "print(\"Минимальное значение столбца 'departure_at':\", min_value_da_TS05)\n",
        "print(\"Максимальное значение столбца 'departure_at':\", max_value_da_TS05)\n",
        "\n",
        "TS05['return_at'] = TS05['return_at'].apply(lambda x: x.split('T')[0])\n",
        "mode_result_ra_TS05=pd.Series(TS05['return_at']).mode()\n",
        "min_value_ra_TS05 = TS05['return_at'].min()\n",
        "max_value_ra_TS05 = TS05['return_at'].max()\n",
        "\n",
        "print (\"\\nМода столбца 'return_at':\", mode_result_ra_TS05[0])\n",
        "print(\"Минимальное значение столбца 'return_at':\", min_value_ra_TS05)\n",
        "print(\"Максимальное значение столбца 'return_at':\", max_value_ra_TS05)"
      ],
      "metadata": {
        "id": "sGWY6BwIbYJJ",
        "colab": {
          "base_uri": "https://localhost:8080/",
          "height": 894
        },
        "outputId": "fe0d4c47-95d0-4f60-9bcb-f93cbfd803f0"
      },
      "execution_count": null,
      "outputs": [
        {
          "output_type": "stream",
          "name": "stdout",
          "text": [
            "Тюмень-Самара май:\n",
            "\n",
            "Мода столбца 'value': 10074.0\n",
            "Среднее арифметическое столбца 'value': 11252.229975\n",
            "Медиана столбца 'value': 11333.41\n",
            "Минимальное значение столбца 'value': 7629.0\n",
            "Максимальное значение столбца 'value': 14299.0\n",
            "Диапазон значений столбца 'value': 6670.0\n",
            "Коэффициент вариации для столбца 'value': 13.76%\n",
            "\n"
          ]
        },
        {
          "output_type": "display_data",
          "data": {
            "text/plain": [
              "<Figure size 1000x600 with 1 Axes>"
            ],
            "image/png": "[encoded data removed]"
          },
          "metadata": {}
        },
        {
          "output_type": "stream",
          "name": "stdout",
          "text": [
            "Мода столбца 'main_airline': DP\n",
            "\n",
            "Мода столбца 'departure_at': 2024-05-03\n",
            "Минимальное значение столбца 'departure_at': 2024-05-01\n",
            "Максимальное значение столбца 'departure_at': 2024-05-31\n",
            "\n",
            "Мода столбца 'return_at': 2024-05-31\n",
            "Минимальное значение столбца 'return_at': 2024-05-02\n",
            "Максимальное значение столбца 'return_at': 2024-06-27\n"
          ]
        }
      ]
    },
    {
      "cell_type": "code",
      "source": [
        "f = open('/content/responseTyumenSamara06.json')\n",
        "data = json.load(f)\n",
        "TS06 = pd.json_normalize(data['data']['prices_round_trip'])\n",
        "\n",
        "mode_result_v_TS06=pd.Series(TS06['value']).mode()\n",
        "average_v_TS06 = np.mean(TS06['value'])\n",
        "median_v_TS06 = np.median(TS06['value'])\n",
        "min_value_v_TS06 = TS06['value'].min()\n",
        "max_value_v_TS06 = TS06['value'].max()\n",
        "value_range_v_TS06 = max_value_v_TS06 - min_value_v_TS06\n",
        "std_dev_value_v_TS06 = TS06['value'].std()\n",
        "coefficient_of_variation_v_TS06 = (std_dev_value_v_TS06 / average_v_TS06) * 100\n",
        "\n",
        "print (\"\\nТюмень-Самара июнь:\")\n",
        "print (\"\\nМода столбца 'value':\", mode_result_v_TS06[0])\n",
        "print (\"Среднее арифметическое столбца 'value':\", average_v_TS06)\n",
        "print (\"Медиана столбца 'value':\", median_v_TS06)\n",
        "print(\"Минимальное значение столбца 'value':\", min_value_v_TS06)\n",
        "print(\"Максимальное значение столбца 'value':\", max_value_v_TS06)\n",
        "print(\"Диапазон значений столбца 'value':\", value_range_v_TS06)\n",
        "print(\"Коэффициент вариации для столбца 'value': {:.2f}%\\n\".format(coefficient_of_variation_v_TS06))\n",
        "\n",
        "# Вычисление верхнего и нижнего порогов для выбросов\n",
        "lower_threshold = average_v_TS06 - 3 * std_dev_value_v_TS06\n",
        "upper_threshold = average_v_TS06 + 3 * std_dev_value_v_TS06\n",
        "# Фильтрация данных для удаления выбросов\n",
        "TS06_filtered = TS06[(TS06['value'] >= lower_threshold) & (TS06['value'] <= upper_threshold)]\n",
        "# Визуализация выбросов\n",
        "plt.figure(figsize=(10, 6))\n",
        "sns.boxplot(x=TS06['value'])\n",
        "plt.title('Boxplot столбца \"value\" (Тюмень-Самара июнь)')\n",
        "plt.xlabel('Значение')\n",
        "plt.show()\n",
        "\n",
        "mode_result_ma_TS06=pd.Series(TS06[\"main_airline\"]).mode()\n",
        "\n",
        "print (\"Мода столбца 'main_airline':\", mode_result_ma_TS06[0])\n",
        "\n",
        "TS06['departure_at'] = TS06['departure_at'].apply(lambda x: x.split('T')[0])\n",
        "mode_result_da_TS06=pd.Series(TS06['departure_at']).mode()\n",
        "min_value_da_TS06 = TS06['departure_at'].min()\n",
        "max_value_da_TS06 = TS06['departure_at'].max()\n",
        "\n",
        "print (\"\\nМода столбца 'departure_at':\", mode_result_da_TS06[0])\n",
        "print(\"Минимальное значение столбца 'departure_at':\", min_value_da_TS06)\n",
        "print(\"Максимальное значение столбца 'departure_at':\", max_value_da_TS06)\n",
        "\n",
        "TS06['return_at'] = TS06['return_at'].apply(lambda x: x.split('T')[0])\n",
        "mode_result_ra_TS06=pd.Series(TS06['return_at']).mode()\n",
        "min_value_ra_TS06 = TS06['return_at'].min()\n",
        "max_value_ra_TS06 = TS06['return_at'].max()\n",
        "\n",
        "print (\"\\nМода столбца 'return_at':\", mode_result_ra_TS06[0])\n",
        "print(\"Минимальное значение столбца 'return_at':\", min_value_ra_TS06)\n",
        "print(\"Максимальное значение столбца 'return_at':\", max_value_ra_TS06)\n",
        "\n"
      ],
      "metadata": {
        "id": "aiRtwo1eTtTV",
        "colab": {
          "base_uri": "https://localhost:8080/",
          "height": 911
        },
        "outputId": "f9af7cc0-13f7-43c6-ad81-41ffab1ce305"
      },
      "execution_count": null,
      "outputs": [
        {
          "output_type": "stream",
          "name": "stdout",
          "text": [
            "\n",
            "Тюмень-Самара июнь:\n",
            "\n",
            "Мода столбца 'value': 11684.0\n",
            "Среднее арифметическое столбца 'value': 11603.025527065529\n",
            "Медиана столбца 'value': 11619.63\n",
            "Минимальное значение столбца 'value': 9506.0\n",
            "Максимальное значение столбца 'value': 15318.28\n",
            "Диапазон значений столбца 'value': 5812.280000000001\n",
            "Коэффициент вариации для столбца 'value': 9.80%\n",
            "\n"
          ]
        },
        {
          "output_type": "display_data",
          "data": {
            "text/plain": [
              "<Figure size 1000x600 with 1 Axes>"
            ],
            "image/png": "[encoded data removed]"
          },
          "metadata": {}
        },
        {
          "output_type": "stream",
          "name": "stdout",
          "text": [
            "Мода столбца 'main_airline': S7\n",
            "\n",
            "Мода столбца 'departure_at': 2024-06-01\n",
            "Минимальное значение столбца 'departure_at': 2024-06-01\n",
            "Максимальное значение столбца 'departure_at': 2024-06-30\n",
            "\n",
            "Мода столбца 'return_at': 2024-06-23\n",
            "Минимальное значение столбца 'return_at': 2024-06-01\n",
            "Максимальное значение столбца 'return_at': 2024-07-21\n"
          ]
        }
      ]
    },
    {
      "cell_type": "code",
      "source": [
        "f = open('/content/responseTyumenSamara07.json')\n",
        "data = json.load(f)\n",
        "TS07 = pd.json_normalize(data['data']['prices_round_trip'])\n",
        "\n",
        "mode_result_v_TS07=pd.Series(TS07['value']).mode()\n",
        "average_v_TS07 = np.mean(TS07['value'])\n",
        "median_v_TS07 = np.median(TS07['value'])\n",
        "min_value_v_TS07 = TS07['value'].min()\n",
        "max_value_v_TS07 = TS07['value'].max()\n",
        "value_range_v_TS07 = max_value_v_TS07 - min_value_v_TS07\n",
        "std_dev_value_v_TS07 = TS07['value'].std()\n",
        "coefficient_of_variation_v_TS07 = (std_dev_value_v_TS07 / average_v_TS07) * 100\n",
        "\n",
        "print (\"\\nТюмень-Самара июль:\")\n",
        "print (\"\\nМода столбца 'value':\", mode_result_v_TS07[0])\n",
        "print (\"Среднее арифметическое столбца 'value':\", average_v_TS07)\n",
        "print (\"Медиана столбца 'value':\", median_v_TS07)\n",
        "print(\"Минимальное значение столбца 'value':\", min_value_v_TS07)\n",
        "print(\"Максимальное значение столбца 'value':\", max_value_v_TS07)\n",
        "print(\"Диапазон значений столбца 'value':\", value_range_v_TS07)\n",
        "print(\"Коэффициент вариации для столбца 'value': {:.2f}%\\n\".format(coefficient_of_variation_v_TS07))\n",
        "\n",
        "# Вычисление верхнего и нижнего порогов для выбросов\n",
        "lower_threshold = average_v_TS07 - 3 * std_dev_value_v_TS07\n",
        "upper_threshold = average_v_TS07 + 3 * std_dev_value_v_TS07\n",
        "# Фильтрация данных для удаления выбросов\n",
        "TS07_filtered = TS07[(TS07['value'] >= lower_threshold) & (TS07['value'] <= upper_threshold)]\n",
        "# Визуализация выбросов\n",
        "plt.figure(figsize=(10, 6))\n",
        "sns.boxplot(x=TS07['value'])\n",
        "plt.title('Boxplot столбца \"value\" (Тюмень-Самара июль)')\n",
        "plt.xlabel('Значение')\n",
        "plt.show()\n",
        "\n",
        "mode_result_ma_TS07=pd.Series(TS07[\"main_airline\"]).mode()\n",
        "\n",
        "print (\"Мода столбца 'main_airline':\", mode_result_ma_TS07[0])\n",
        "\n",
        "TS07['departure_at'] = TS07['departure_at'].apply(lambda x: x.split('T')[0])\n",
        "mode_result_da_TS07=pd.Series(TS07['departure_at']).mode()\n",
        "min_value_da_TS07 = TS07['departure_at'].min()\n",
        "max_value_da_TS07 = TS07['departure_at'].max()\n",
        "\n",
        "print (\"\\nМода столбца 'departure_at':\", mode_result_da_TS07[0])\n",
        "print(\"Минимальное значение столбца 'departure_at':\", min_value_da_TS07)\n",
        "print(\"Максимальное значение столбца 'departure_at':\", max_value_da_TS07)\n",
        "\n",
        "TS07['return_at'] = TS07['return_at'].apply(lambda x: x.split('T')[0])\n",
        "mode_result_ra_TS07=pd.Series(TS07['return_at']).mode()\n",
        "min_value_ra_TS07 = TS07['return_at'].min()\n",
        "max_value_ra_TS07 = TS07['return_at'].max()\n",
        "\n",
        "print (\"\\nМода столбца 'return_at':\", mode_result_ra_TS07[0])\n",
        "print(\"Минимальное значение столбца 'return_at':\", min_value_ra_TS07)\n",
        "print(\"Максимальное значение столбца 'return_at':\", max_value_ra_TS07)"
      ],
      "metadata": {
        "id": "D_Z5srPiTwyn",
        "colab": {
          "base_uri": "https://localhost:8080/",
          "height": 911
        },
        "outputId": "cea5bbe5-dc1e-4927-c99d-4ae83b35f565"
      },
      "execution_count": null,
      "outputs": [
        {
          "output_type": "stream",
          "name": "stdout",
          "text": [
            "\n",
            "Тюмень-Самара июль:\n",
            "\n",
            "Мода столбца 'value': 10814.0\n",
            "Среднее арифметическое столбца 'value': 11356.870408163266\n",
            "Медиана столбца 'value': 10843.48\n",
            "Минимальное значение столбца 'value': 9045.0\n",
            "Максимальное значение столбца 'value': 16363.49\n",
            "Диапазон значений столбца 'value': 7318.49\n",
            "Коэффициент вариации для столбца 'value': 9.75%\n",
            "\n"
          ]
        },
        {
          "output_type": "display_data",
          "data": {
            "text/plain": [
              "<Figure size 1000x600 with 1 Axes>"
            ],
            "image/png": "[encoded data removed]"
          },
          "metadata": {}
        },
        {
          "output_type": "stream",
          "name": "stdout",
          "text": [
            "Мода столбца 'main_airline': S7\n",
            "\n",
            "Мода столбца 'departure_at': 2024-07-04\n",
            "Минимальное значение столбца 'departure_at': 2024-07-01\n",
            "Максимальное значение столбца 'departure_at': 2024-07-31\n",
            "\n",
            "Мода столбца 'return_at': 2024-07-21\n",
            "Минимальное значение столбца 'return_at': 2024-07-02\n",
            "Максимальное значение столбца 'return_at': 2024-08-25\n"
          ]
        }
      ]
    },
    {
      "cell_type": "code",
      "source": [
        "f = open('/content/responseTyumenSamara08.json')\n",
        "data = json.load(f)\n",
        "TS08 = pd.json_normalize(data['data']['prices_round_trip'])\n",
        "\n",
        "mode_result_v_TS08=pd.Series(TS08['value']).mode()\n",
        "average_v_TS08 = np.mean(TS08['value'])\n",
        "median_v_TS08 = np.median(TS08['value'])\n",
        "min_value_v_TS08 = TS08['value'].min()\n",
        "max_value_v_TS08 = TS08['value'].max()\n",
        "value_range_v_TS08 = max_value_v_TS08 - min_value_v_TS08\n",
        "std_dev_value_v_TS08 = TS08['value'].std()\n",
        "coefficient_of_variation_v_TS08 = (std_dev_value_v_TS08 / average_v_TS08) * 100\n",
        "\n",
        "print(\"\\nТюмень-Самара август:\")\n",
        "print(\"\\nМода столбца 'value':\", mode_result_v_TS08[0])\n",
        "print(\"Среднее арифметическое столбца 'value':\", average_v_TS08)\n",
        "print(\"Медиана столбца 'value':\", median_v_TS08)\n",
        "print(\"Минимальное значение столбца 'value':\", min_value_v_TS08)\n",
        "print(\"Максимальное значение столбца 'value':\", max_value_v_TS08)\n",
        "print(\"Диапазон значений столбца 'value':\", value_range_v_TS08)\n",
        "print(\"Коэффициент вариации для столбца 'value': {:.2f}%\\n\".format(coefficient_of_variation_v_TS08))\n",
        "\n",
        "# Вычисление верхнего и нижнего порогов для выбросов\n",
        "lower_threshold = average_v_TS08 - 3 * std_dev_value_v_TS08\n",
        "upper_threshold = average_v_TS08 + 3 * std_dev_value_v_TS08\n",
        "# Фильтрация данных для удаления выбросов\n",
        "TS08_filtered = TS08[(TS08['value'] >= lower_threshold) & (TS08['value'] <= upper_threshold)]\n",
        "# Визуализация выбросов\n",
        "plt.figure(figsize=(10, 6))\n",
        "sns.boxplot(x=TS08['value'])\n",
        "plt.title('Boxplot столбца \"value\" (Тюмень-Самара август)')\n",
        "plt.xlabel('Значение')\n",
        "plt.show()\n",
        "\n",
        "mode_result_ma_TS08=pd.Series(TS08[\"main_airline\"]).mode()\n",
        "\n",
        "print (\"Мода столбца 'main_airline':\", mode_result_ma_TS08[0])\n",
        "\n",
        "TS08['departure_at'] = TS08['departure_at'].apply(lambda x: x.split('T')[0])\n",
        "mode_result_da_TS08=pd.Series(TS08['departure_at']).mode()\n",
        "min_value_da_TS08 = TS08['departure_at'].min()\n",
        "max_value_da_TS08 = TS08['departure_at'].max()\n",
        "\n",
        "print (\"\\nМода столбца 'departure_at':\", mode_result_da_TS08[0])\n",
        "print(\"Минимальное значение столбца 'departure_at':\", min_value_da_TS08)\n",
        "print(\"Максимальное значение столбца 'departure_at':\", max_value_da_TS08)\n",
        "\n",
        "TS08['return_at'] = TS08['return_at'].apply(lambda x: x.split('T')[0])\n",
        "mode_result_ra_TS08=pd.Series(TS08['return_at']).mode()\n",
        "min_value_ra_TS08 = TS08['return_at'].min()\n",
        "max_value_ra_TS08 = TS08['return_at'].max()\n",
        "\n",
        "print (\"\\nМода столбца 'return_at':\", mode_result_ra_TS08[0])\n",
        "print(\"Минимальное значение столбца 'return_at':\", min_value_ra_TS08)\n",
        "print(\"Максимальное значение столбца 'return_at':\", max_value_ra_TS08)"
      ],
      "metadata": {
        "id": "tdoIHJzoTxrL",
        "colab": {
          "base_uri": "https://localhost:8080/",
          "height": 911
        },
        "outputId": "7f5b400e-3955-41f3-e2c7-d7574c5cdb83"
      },
      "execution_count": null,
      "outputs": [
        {
          "output_type": "stream",
          "name": "stdout",
          "text": [
            "\n",
            "Тюмень-Самара август:\n",
            "\n",
            "Мода столбца 'value': 10055.19\n",
            "Среднее арифметическое столбца 'value': 10624.524085365854\n",
            "Медиана столбца 'value': 10505.905\n",
            "Минимальное значение столбца 'value': 8933.19\n",
            "Максимальное значение столбца 'value': 13074.0\n",
            "Диапазон значений столбца 'value': 4140.8099999999995\n",
            "Коэффициент вариации для столбца 'value': 7.09%\n",
            "\n"
          ]
        },
        {
          "output_type": "display_data",
          "data": {
            "text/plain": [
              "<Figure size 1000x600 with 1 Axes>"
            ],
            "image/png": "[encoded data removed]"
          },
          "metadata": {}
        },
        {
          "output_type": "stream",
          "name": "stdout",
          "text": [
            "Мода столбца 'main_airline': S7\n",
            "\n",
            "Мода столбца 'departure_at': 2024-08-06\n",
            "Минимальное значение столбца 'departure_at': 2024-08-01\n",
            "Максимальное значение столбца 'departure_at': 2024-08-31\n",
            "\n",
            "Мода столбца 'return_at': 2024-08-17\n",
            "Минимальное значение столбца 'return_at': 2024-08-04\n",
            "Максимальное значение столбца 'return_at': 2024-09-09\n"
          ]
        }
      ]
    }
  ]
}